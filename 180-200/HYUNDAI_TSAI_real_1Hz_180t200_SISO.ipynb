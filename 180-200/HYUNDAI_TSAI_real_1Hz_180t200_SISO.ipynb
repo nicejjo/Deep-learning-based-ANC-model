{
 "cells": [
  {
   "cell_type": "markdown",
   "metadata": {
    "id": "d7Ne8vihu8Az"
   },
   "source": [
    "# Import library"
   ]
  },
  {
   "cell_type": "code",
   "execution_count": null,
   "metadata": {
    "ExecuteTime": {
     "end_time": "2023-06-23T01:44:17.239127Z",
     "start_time": "2023-06-23T01:44:06.621524Z"
    }
   },
   "outputs": [],
   "source": [
    "import tensorflow as tf\n",
    "from tensorflow import keras\n",
    "import numpy as np\n",
    "import matplotlib.pyplot as plt\n",
    "import seaborn as sns\n",
    "import pandas as pd\n",
    "import scipy as sp\n",
    "import scipy.stats as stats\n",
    "import torch_optimizer as optim\n",
    "import torch\n",
    "\n",
    "import time\n",
    "import os\n",
    "from PIL import Image\n",
    "from IPython.display import Image as Img\n",
    "from IPython.display import display\n",
    "from PIL import Image\n",
    "import imageio\n",
    "import natsort\n",
    "import re\n",
    "import sys\n",
    "mod = sys.modules[__name__]\n",
    "\n",
    "from sklearn.preprocessing import MinMaxScaler, MaxAbsScaler, StandardScaler\n",
    "from sklearn.model_selection import train_test_split\n",
    "from sklearn.metrics import r2_score"
   ]
  },
  {
   "cell_type": "code",
   "execution_count": null,
   "metadata": {
    "ExecuteTime": {
     "end_time": "2023-06-23T01:44:19.599990Z",
     "start_time": "2023-06-23T01:44:17.241128Z"
    },
    "scrolled": true
   },
   "outputs": [],
   "source": [
    "from tsai.all import *\n",
    "from tensorflow.python.client import device_lib"
   ]
  },
  {
   "cell_type": "markdown",
   "metadata": {},
   "source": [
    "# Load data"
   ]
  },
  {
   "cell_type": "code",
   "execution_count": null,
   "metadata": {
    "ExecuteTime": {
     "end_time": "2023-06-23T01:44:20.768203Z",
     "start_time": "2023-06-23T01:44:20.754200Z"
    }
   },
   "outputs": [],
   "source": [
    "code_version = 'SISO_180t200'\n",
    "net = 'TSAI'\n",
    "net_type= 'TSAI_1Hz_real'"
   ]
  },
  {
   "cell_type": "code",
   "execution_count": null,
   "metadata": {
    "ExecuteTime": {
     "end_time": "2023-06-23T01:44:20.798994Z",
     "start_time": "2023-06-23T01:44:20.771204Z"
    },
    "scrolled": true
   },
   "outputs": [],
   "source": [
    "# Global path\n",
    "global_path='D:/KHJ/HYUNDAI'\n",
    "if os.path.exists(global_path):\n",
    "    print('The directory already exists')\n",
    "else:\n",
    "    os.mkdir(global_path)\n",
    "    \n",
    "# Input data path\n",
    "global_input_path_name=str(global_path)+'/Data/Training data'\n",
    "if os.path.exists(global_input_path_name):\n",
    "    print('The directory already exists')\n",
    "else:\n",
    "    os.mkdir(global_input_path_name)\n",
    "    \n",
    "# Result data path\n",
    "global_result_path_name=str(global_path)+'/Result/'+str(net)+'/'+str(net_type)   \n",
    "if os.path.exists(global_result_path_name):\n",
    "    print('The directory already exists')\n",
    "else:\n",
    "    os.makedirs(global_result_path_name)"
   ]
  },
  {
   "cell_type": "code",
   "execution_count": null,
   "metadata": {
    "ExecuteTime": {
     "end_time": "2023-06-23T01:44:20.814163Z",
     "start_time": "2023-06-23T01:44:20.801994Z"
    }
   },
   "outputs": [],
   "source": [
    "# Global output file path\n",
    "global_result_file_path =str(global_result_path_name)+'/'+str(net_type)+'_'+str(code_version)\n",
    "if os.path.exists(global_result_file_path):\n",
    "    print('The directory already exists')\n",
    "else:\n",
    "    os.mkdir(global_result_file_path)\n",
    "    \n",
    "# Scaler path\n",
    "scaler_path=str(global_result_file_path)+'/scaler'  \n",
    "if os.path.exists(scaler_path):\n",
    "    print('The directory already exists')\n",
    "else:\n",
    "    os.mkdir(scaler_path)  \n",
    "       \n",
    "# loss path\n",
    "loss_path=str(global_result_file_path)+'/loss'  \n",
    "if os.path.exists(loss_path):\n",
    "    print('The directory already exists')\n",
    "else:\n",
    "    os.mkdir(loss_path)\n",
    "    \n",
    "# result path\n",
    "result_path=str(global_result_file_path)+'/result'  \n",
    "if os.path.exists(result_path):\n",
    "    print('The directory already exists')\n",
    "else:\n",
    "    os.mkdir(result_path)"
   ]
  },
  {
   "cell_type": "markdown",
   "metadata": {},
   "source": [
    "# Data preprocessing"
   ]
  },
  {
   "cell_type": "code",
   "execution_count": null,
   "metadata": {
    "ExecuteTime": {
     "end_time": "2023-06-23T01:44:20.846437Z",
     "start_time": "2023-06-23T01:44:20.815166Z"
    }
   },
   "outputs": [],
   "source": [
    "PG_path = str(global_input_path_name)+'/PG_repeat_Aw_interp_20_hr_p'\n",
    "PG_file_list = os.listdir(PG_path)\n",
    "PG_file_num = len(PG_file_list) \n",
    "PG_file_list = natsort.natsorted(PG_file_list) \n",
    "\n",
    "PG_case_list = os.listdir(str(PG_path)+'/'+str(PG_file_list[0]))\n",
    "PG_case_num = len(PG_case_list) \n",
    "PG_case_list = natsort.natsorted(PG_case_list)\n",
    "\n",
    "print (\"file_list: {}\".format(PG_file_list))\n",
    "print (\"case_list: {}\".format(PG_case_list))"
   ]
  },
  {
   "cell_type": "markdown",
   "metadata": {},
   "source": [
    "## Import raw data"
   ]
  },
  {
   "cell_type": "markdown",
   "metadata": {},
   "source": [
    "### XL data"
   ]
  },
  {
   "cell_type": "code",
   "execution_count": null,
   "metadata": {
    "ExecuteTime": {
     "end_time": "2023-06-23T01:44:44.546366Z",
     "start_time": "2023-06-23T01:44:20.863452Z"
    },
    "scrolled": true
   },
   "outputs": [],
   "source": [
    "for i in range(PG_case_num):\n",
    "    print('case : {}'.format(i+1)) \n",
    "    PG_raw_xl_path = str(PG_path)+'/'+str(PG_file_list[0])+'/'+str(PG_case_list[i])+'/XL'\n",
    "    print(PG_raw_xl_path)\n",
    "    PG_infile_list = os.listdir(PG_raw_xl_path)\n",
    "    PG_infile_lists = natsort.natsorted(PG_infile_list)\n",
    "    print(PG_infile_lists)\n",
    "    k = 0\n",
    "    m = 0\n",
    "    for j in range(2): # 1:real, 2:imag\n",
    "        if np.mod(j+1,2)==1:\n",
    "            k = k+1\n",
    "            print(k)\n",
    "            print('odd')\n",
    "            print(\"Case index is :{}, and data type is imaginary\".format(i+1))\n",
    "            setattr(mod, 'xl_{}case_{}ch_{}_interp_raw'.format(i+1,k,2), np.loadtxt(str(PG_raw_xl_path)+'/'+str(PG_infile_lists[j]),delimiter=\",\").T) \n",
    "            print(str(PG_raw_xl_path)+'/'+str(PG_infile_lists[j]))\n",
    "            print(\"Data : {}, shape : {}\".format(globals()['xl_{}case_{}ch_{}_interp_raw'.format(i+1,k,2)],\n",
    "                                                           globals()['xl_{}case_{}ch_{}_interp_raw'.format(i+1,k,2)].shape))\n",
    "        elif np.mod(j+1,2)==0: \n",
    "            m = m+1\n",
    "            print(m)\n",
    "            print('even')\n",
    "            print(\"Case index is :{}, and data type is real\".format(i+1))\n",
    "            setattr(mod, 'xl_{}case_{}ch_{}_interp_raw'.format(i+1,m,1), np.loadtxt(str(PG_raw_xl_path)+'/'+str(PG_infile_lists[j]),delimiter=\",\").T)\n",
    "            print(str(PG_raw_xl_path)+'/'+str(PG_infile_lists[j]))\n",
    "            print(\"Data : {}, shape : {}\".format(globals()['xl_{}case_{}ch_{}_interp_raw'.format(i+1,m,1)],\n",
    "                                                           globals()['xl_{}case_{}ch_{}_interp_raw'.format(i+1,m,1)].shape))"
   ]
  },
  {
   "cell_type": "code",
   "execution_count": null,
   "metadata": {
    "ExecuteTime": {
     "end_time": "2023-06-23T01:44:44.562016Z",
     "start_time": "2023-06-23T01:44:44.548366Z"
    },
    "scrolled": true
   },
   "outputs": [],
   "source": [
    "xl_channel = 1\n",
    "latent_xl_channel = 1"
   ]
  },
  {
   "cell_type": "markdown",
   "metadata": {},
   "source": [
    "#### XL data real part"
   ]
  },
  {
   "cell_type": "code",
   "execution_count": null,
   "metadata": {
    "ExecuteTime": {
     "end_time": "2023-06-23T01:44:44.816096Z",
     "start_time": "2023-06-23T01:44:44.580022Z"
    },
    "scrolled": true
   },
   "outputs": [],
   "source": [
    "for i in range(xl_channel):\n",
    "    xl_data = np.empty((0,xl_1case_1ch_1_interp_raw.shape[1]),int)\n",
    "    for j in range(PG_case_num): \n",
    "        print(\"{}ch {}case\".format(i+1,j+1))\n",
    "        xl_datas = globals()['xl_{}case_{}ch_{}_interp_raw'.format(j+1,i+1,1)]\n",
    "        xl_data = np.append(xl_data, xl_datas, axis=0)   \n",
    "    setattr(mod, 'xl_allcase_{}ch_real_interp_raw'.format(i+1), np.array(xl_data))\n",
    "    print(\"Data shape : {}\".format(globals()['xl_allcase_{}ch_real_interp_raw'.format(i+1)].shape))"
   ]
  },
  {
   "cell_type": "code",
   "execution_count": null,
   "metadata": {
    "ExecuteTime": {
     "end_time": "2023-06-23T01:44:44.880110Z",
     "start_time": "2023-06-23T01:44:44.818096Z"
    }
   },
   "outputs": [],
   "source": [
    "xl_data = np.empty((0,xl_1case_1ch_1_interp_raw.shape[1]),int)\n",
    "for i in range(xl_channel): \n",
    "    print(\"{}ch\".format(i+1))\n",
    "    xl_datas = globals()['xl_allcase_{}ch_real_interp_raw'.format(i+1)]\n",
    "    xl_data = np.append(xl_data, xl_datas, axis=0)\n",
    "xl_allcase_allch_real_interp_raw = np.array(xl_data)\n",
    "print(\"Data shape : {}\".format(xl_allcase_allch_real_interp_raw.shape))"
   ]
  },
  {
   "cell_type": "markdown",
   "metadata": {},
   "source": [
    "#### XL data imaginary part"
   ]
  },
  {
   "cell_type": "code",
   "execution_count": null,
   "metadata": {
    "ExecuteTime": {
     "end_time": "2023-06-23T01:44:45.134167Z",
     "start_time": "2023-06-23T01:44:44.882110Z"
    }
   },
   "outputs": [],
   "source": [
    "for i in range(xl_channel): \n",
    "    xl_data = np.empty((0,xl_1case_1ch_2_interp_raw.shape[1]),int)\n",
    "    for j in range(PG_case_num): \n",
    "        print(\"{}ch {}case\".format(i+1,j+1))\n",
    "        xl_datas = globals()['xl_{}case_{}ch_{}_interp_raw'.format(j+1,i+1,2)] \n",
    "        xl_data = np.append(xl_data, xl_datas, axis=0)   \n",
    "    setattr(mod, 'xl_allcase_{}ch_imag_interp_raw'.format(i+1), np.array(xl_data)) \n",
    "    print(\"Data shape : {}\".format(globals()['xl_allcase_{}ch_imag_interp_raw'.format(i+1)].shape))"
   ]
  },
  {
   "cell_type": "code",
   "execution_count": null,
   "metadata": {
    "ExecuteTime": {
     "end_time": "2023-06-23T01:44:45.213441Z",
     "start_time": "2023-06-23T01:44:45.135168Z"
    }
   },
   "outputs": [],
   "source": [
    "xl_data = np.empty((0,xl_1case_1ch_2_interp_raw.shape[1]),int)\n",
    "for i in range(xl_channel):\n",
    "    print(\"{}ch\".format(i+1))\n",
    "    xl_datas = globals()['xl_allcase_{}ch_imag_interp_raw'.format(i+1)]\n",
    "    xl_data = np.append(xl_data, xl_datas, axis=0)   \n",
    "xl_allcase_allch_imag_interp_raw = np.array(xl_data)\n",
    "print(\"Data shape : {}\".format(xl_allcase_allch_imag_interp_raw.shape))"
   ]
  },
  {
   "cell_type": "markdown",
   "metadata": {},
   "source": [
    "### MIC data"
   ]
  },
  {
   "cell_type": "code",
   "execution_count": null,
   "metadata": {
    "ExecuteTime": {
     "end_time": "2023-06-23T01:45:08.989144Z",
     "start_time": "2023-06-23T01:44:45.214451Z"
    },
    "scrolled": true
   },
   "outputs": [],
   "source": [
    "for i in range(PG_case_num):\n",
    "    print('case : {}'.format(i+1))\n",
    "    PG_raw_mic_path = str(PG_path)+'/'+str(PG_file_list[0])+'/'+str(PG_case_list[i])+'/MIC'\n",
    "    print(PG_raw_mic_path)\n",
    "    PG_infile_list = os.listdir(PG_raw_mic_path)\n",
    "    PG_infile_lists = natsort.natsorted(PG_infile_list)\n",
    "    print(PG_infile_lists)\n",
    "    k = 0\n",
    "    m = 0\n",
    "    for j in range(2): # 1:real, 2:imag\n",
    "        if np.mod(j+1,2)==1:\n",
    "            k = k+1\n",
    "            print(k)\n",
    "            print('odd')\n",
    "            print(\"Case index is :{}, and data type is imaginary\".format(i+1))\n",
    "            setattr(mod, 'mic_{}case_{}ch_{}_interp_raw'.format(i+1,k,2), np.loadtxt(str(PG_raw_mic_path)+'/'+str(PG_infile_lists[j]),delimiter=\",\").T)\n",
    "            print(str(PG_raw_mic_path)+'/'+str(PG_infile_lists[j]))\n",
    "            print(\"Data : {}, shape : {}\".format(globals()['mic_{}case_{}ch_{}_interp_raw'.format(i+1,k,2)],\n",
    "                                                           globals()['mic_{}case_{}ch_{}_interp_raw'.format(i+1,k,2)].shape))\n",
    "        elif np.mod(j+1,2)==0:\n",
    "            m = m+1\n",
    "            print(m)\n",
    "            print('even')\n",
    "            print(\"Case index is :{}, and data type is real\".format(i+1))\n",
    "            setattr(mod, 'mic_{}case_{}ch_{}_interp_raw'.format(i+1,m,1), np.loadtxt(str(PG_raw_mic_path)+'/'+str(PG_infile_lists[j]),delimiter=\",\").T)\n",
    "            print(str(PG_raw_mic_path)+'/'+str(PG_infile_lists[j]))\n",
    "            print(\"Data : {}, shape : {}\".format(globals()['mic_{}case_{}ch_{}_interp_raw'.format(i+1,m,1)],\n",
    "                                                           globals()['mic_{}case_{}ch_{}_interp_raw'.format(i+1,m,1)].shape))"
   ]
  },
  {
   "cell_type": "code",
   "execution_count": null,
   "metadata": {
    "ExecuteTime": {
     "end_time": "2023-06-23T01:45:09.005202Z",
     "start_time": "2023-06-23T01:45:08.991145Z"
    }
   },
   "outputs": [],
   "source": [
    "mic_channel = 1#\n",
    "latent_mic_channel = 1"
   ]
  },
  {
   "cell_type": "markdown",
   "metadata": {},
   "source": [
    "#### MIC data real part"
   ]
  },
  {
   "cell_type": "code",
   "execution_count": null,
   "metadata": {
    "ExecuteTime": {
     "end_time": "2023-06-23T01:45:09.260565Z",
     "start_time": "2023-06-23T01:45:09.021511Z"
    }
   },
   "outputs": [],
   "source": [
    "for i in range(mic_channel):\n",
    "    mic_data = np.empty((0,mic_1case_1ch_1_interp_raw.shape[1]),int)\n",
    "    for j in range(PG_case_num): \n",
    "        print(\"{}ch {}case\".format(i+1,j+1))\n",
    "        mic_datas = globals()['mic_{}case_{}ch_{}_interp_raw'.format(j+1,i+1,1)]\n",
    "        mic_data = np.append(mic_data, mic_datas, axis=0)\n",
    "    setattr(mod, 'mic_allcase_{}ch_real_interp_raw'.format(i+1), np.array(mic_data))\n",
    "    print(\"Data shape : {}\".format(globals()['mic_allcase_{}ch_real_interp_raw'.format(i+1)].shape))"
   ]
  },
  {
   "cell_type": "code",
   "execution_count": null,
   "metadata": {
    "ExecuteTime": {
     "end_time": "2023-06-23T01:45:09.339834Z",
     "start_time": "2023-06-23T01:45:09.261565Z"
    }
   },
   "outputs": [],
   "source": [
    "mic_data = np.empty((0,mic_1case_1ch_1_interp_raw.shape[1]),int)\n",
    "for i in range(mic_channel): \n",
    "    print(\"{}ch\".format(i+1))\n",
    "    mic_datas = globals()['mic_allcase_{}ch_real_interp_raw'.format(i+1)]\n",
    "    mic_data = np.append(mic_data, mic_datas, axis=0)   \n",
    "mic_allcase_allch_real_interp_raw = np.array(mic_data)\n",
    "print(\"Data shape : {}\".format(mic_allcase_allch_real_interp_raw.shape))"
   ]
  },
  {
   "cell_type": "markdown",
   "metadata": {},
   "source": [
    "#### MIC data imaginary part"
   ]
  },
  {
   "cell_type": "code",
   "execution_count": null,
   "metadata": {
    "ExecuteTime": {
     "end_time": "2023-06-23T01:45:09.577485Z",
     "start_time": "2023-06-23T01:45:09.340844Z"
    },
    "scrolled": true
   },
   "outputs": [],
   "source": [
    "for i in range(mic_channel): \n",
    "    mic_data = np.empty((0,mic_1case_1ch_2_interp_raw.shape[1]),int)\n",
    "    for j in range(PG_case_num):\n",
    "        print(\"{}ch {}case\".format(i+1,j+1))\n",
    "        mic_datas = globals()['mic_{}case_{}ch_{}_interp_raw'.format(j+1,i+1,2)]\n",
    "        mic_data = np.append(mic_data, mic_datas, axis=0)   \n",
    "    setattr(mod, 'mic_allcase_{}ch_imag_interp_raw'.format(i+1), np.array(mic_data))\n",
    "    print(\"Data shape : {}\".format(globals()['mic_allcase_{}ch_imag_interp_raw'.format(i+1)].shape))"
   ]
  },
  {
   "cell_type": "code",
   "execution_count": null,
   "metadata": {
    "ExecuteTime": {
     "end_time": "2023-06-23T01:45:09.639610Z",
     "start_time": "2023-06-23T01:45:09.578486Z"
    },
    "scrolled": true
   },
   "outputs": [],
   "source": [
    "mic_data = np.empty((0,mic_1case_1ch_2_interp_raw.shape[1]),int)\n",
    "for i in range(mic_channel): \n",
    "    print(\"{}ch\".format(i+1))\n",
    "    mic_datas = globals()['mic_allcase_{}ch_imag_interp_raw'.format(i+1)]\n",
    "    mic_data = np.append(mic_data, mic_datas, axis=0)\n",
    "mic_allcase_allch_imag_interp_raw = np.array(mic_data)\n",
    "print(\"Data shape : {}\".format(mic_allcase_allch_imag_interp_raw.shape))"
   ]
  },
  {
   "cell_type": "markdown",
   "metadata": {},
   "source": [
    "## Define scaler"
   ]
  },
  {
   "cell_type": "markdown",
   "metadata": {},
   "source": [
    "### Scaler : XL real"
   ]
  },
  {
   "cell_type": "code",
   "execution_count": null,
   "metadata": {
    "ExecuteTime": {
     "end_time": "2023-06-23T01:45:09.719590Z",
     "start_time": "2023-06-23T01:45:09.640621Z"
    }
   },
   "outputs": [],
   "source": [
    "xl_allcase_allch_real_interp_scaler = MinMaxScaler(feature_range=(0,1)) \n",
    "xl_allcase_allch_real_interp_scaler.fit(xl_allcase_allch_real_interp_raw)\n",
    "std_data = np.array([xl_allcase_allch_real_interp_scaler.data_min_,xl_allcase_allch_real_interp_scaler.data_max_])\n",
    "print(\"xl real MinMaxScaler : {}, shape : {}\".format(std_data,std_data.shape))\n",
    "np.savetxt(str(scaler_path)+'/MinMaxScaler_xl_allch_real_interp.dat',std_data,delimiter=\",\")"
   ]
  },
  {
   "cell_type": "markdown",
   "metadata": {},
   "source": [
    "### Scaler : XL imag"
   ]
  },
  {
   "cell_type": "code",
   "execution_count": null,
   "metadata": {
    "ExecuteTime": {
     "end_time": "2023-06-23T01:45:09.797619Z",
     "start_time": "2023-06-23T01:45:09.720600Z"
    }
   },
   "outputs": [],
   "source": [
    "xl_allcase_allch_imag_interp_scaler = MinMaxScaler(feature_range=(0,1))\n",
    "xl_allcase_allch_imag_interp_scaler.fit(xl_allcase_allch_imag_interp_raw)\n",
    "std_data = np.array([xl_allcase_allch_imag_interp_scaler.data_min_,xl_allcase_allch_imag_interp_scaler.data_max_])\n",
    "print(\"xl imag MinMaxScaler : {}, shape : {}\".format(std_data,std_data.shape))\n",
    "np.savetxt(str(scaler_path)+'/MinMaxScaler_xl_allch_imag_interp.dat',std_data,delimiter=\",\")"
   ]
  },
  {
   "cell_type": "markdown",
   "metadata": {},
   "source": [
    "### Scaler : MIC real"
   ]
  },
  {
   "cell_type": "code",
   "execution_count": null,
   "metadata": {
    "ExecuteTime": {
     "end_time": "2023-06-23T01:45:09.877397Z",
     "start_time": "2023-06-23T01:45:09.798619Z"
    },
    "scrolled": true
   },
   "outputs": [],
   "source": [
    "mic_allcase_allch_real_interp_scaler = MinMaxScaler(feature_range=(0,1))\n",
    "mic_allcase_allch_real_interp_scaler.fit(mic_allcase_allch_real_interp_raw)\n",
    "std_data = np.array([mic_allcase_allch_real_interp_scaler.data_min_,mic_allcase_allch_real_interp_scaler.data_max_])\n",
    "print(\"mic real MinMaxScaler : {}, shape : {}\".format(std_data,std_data.shape))\n",
    "np.savetxt(str(scaler_path)+'/MinMaxScaler_mic_allch_real_interp.dat',std_data,delimiter=\",\")"
   ]
  },
  {
   "cell_type": "markdown",
   "metadata": {},
   "source": [
    "### Scaler : MIC imag"
   ]
  },
  {
   "cell_type": "code",
   "execution_count": null,
   "metadata": {
    "ExecuteTime": {
     "end_time": "2023-06-23T01:45:09.956351Z",
     "start_time": "2023-06-23T01:45:09.878397Z"
    },
    "scrolled": true
   },
   "outputs": [],
   "source": [
    "mic_allcase_allch_imag_interp_scaler = MinMaxScaler(feature_range=(0,1))\n",
    "mic_allcase_allch_imag_interp_scaler.fit(mic_allcase_allch_imag_interp_raw) \n",
    "std_data = np.array([mic_allcase_allch_imag_interp_scaler.data_min_,mic_allcase_allch_imag_interp_scaler.data_max_])\n",
    "print(\"mic imag MinMaxScaler : {}, shape : {}\".format(std_data,std_data.shape))\n",
    "np.savetxt(str(scaler_path)+'/MinMaxScaler_mic_allch_imag_interp.dat',std_data,delimiter=\",\")"
   ]
  },
  {
   "cell_type": "markdown",
   "metadata": {},
   "source": [
    "## Data Scaling"
   ]
  },
  {
   "cell_type": "markdown",
   "metadata": {},
   "source": [
    "### Scaling (XL)"
   ]
  },
  {
   "cell_type": "code",
   "execution_count": null,
   "metadata": {
    "ExecuteTime": {
     "end_time": "2023-06-23T01:45:10.145002Z",
     "start_time": "2023-06-23T01:45:09.957352Z"
    },
    "scrolled": true
   },
   "outputs": [],
   "source": [
    "for i in range(PG_case_num): \n",
    "    print('case : {}'.format(i+1))\n",
    "    for j in range(xl_channel):\n",
    "        for k in range(2):\n",
    "            if k+1==1:\n",
    "                setattr(mod,'xl_{}case_{}ch_{}_interp'.format(i+1,j+1,1), xl_allcase_allch_real_interp_scaler.transform(globals()['xl_{}case_{}ch_{}_interp_raw'.format(i+1,j+1,1)])) \n",
    "            elif k+1==2:\n",
    "                setattr(mod,'xl_{}case_{}ch_{}_interp'.format(i+1,j+1,2), xl_allcase_allch_imag_interp_scaler.transform(globals()['xl_{}case_{}ch_{}_interp_raw'.format(i+1,j+1,2)]))  "
   ]
  },
  {
   "cell_type": "markdown",
   "metadata": {},
   "source": [
    "### Scaling (MIC)"
   ]
  },
  {
   "cell_type": "code",
   "execution_count": null,
   "metadata": {
    "ExecuteTime": {
     "end_time": "2023-06-23T01:45:10.336334Z",
     "start_time": "2023-06-23T01:45:10.146013Z"
    }
   },
   "outputs": [],
   "source": [
    "for i in range(PG_case_num):\n",
    "    print('case : {}'.format(i+1))\n",
    "    for j in range(mic_channel):\n",
    "        for k in range(2):\n",
    "            if k+1==1:\n",
    "                setattr(mod,'mic_{}case_{}ch_{}_interp'.format(i+1,j+1,1), mic_allcase_allch_real_interp_scaler.transform(globals()['mic_{}case_{}ch_{}_interp_raw'.format(i+1,j+1,1)]))\n",
    "            elif k+1==2:\n",
    "                setattr(mod,'mic_{}case_{}ch_{}_interp'.format(i+1,j+1,2), mic_allcase_allch_imag_interp_scaler.transform(globals()['mic_{}case_{}ch_{}_interp_raw'.format(i+1,j+1,2)]))"
   ]
  },
  {
   "cell_type": "markdown",
   "metadata": {},
   "source": [
    "## Data split"
   ]
  },
  {
   "cell_type": "code",
   "execution_count": null,
   "metadata": {
    "ExecuteTime": {
     "end_time": "2023-06-23T01:45:10.351942Z",
     "start_time": "2023-06-23T01:45:10.337345Z"
    }
   },
   "outputs": [],
   "source": [
    "#TSAI\n",
    "window=10\n",
    "future_window=10\n",
    "strides = 1\n",
    "freq_input = 21#97\n",
    "freq_output = 21#97 "
   ]
  },
  {
   "cell_type": "code",
   "execution_count": null,
   "metadata": {
    "ExecuteTime": {
     "end_time": "2023-06-23T01:45:10.367461Z",
     "start_time": "2023-06-23T01:45:10.353943Z"
    }
   },
   "outputs": [],
   "source": [
    "training_data_index = np.array([1,2,3,4,5,6,8,9,10,11])\n",
    "testing_data_index = np.array([7])"
   ]
  },
  {
   "cell_type": "markdown",
   "metadata": {},
   "source": [
    "### XL data"
   ]
  },
  {
   "cell_type": "code",
   "execution_count": null,
   "metadata": {
    "ExecuteTime": {
     "end_time": "2023-06-23T01:45:10.621633Z",
     "start_time": "2023-06-23T01:45:10.368472Z"
    },
    "scrolled": true
   },
   "outputs": [],
   "source": [
    "for i in range(xl_channel):\n",
    "    xl_x_train,xl_y_train = np.empty((0,freq_input,window), int),np.empty((0,freq_input,future_window), int)\n",
    "\n",
    "    for j in training_data_index: \n",
    "        data = globals()['xl_{}case_{}ch_{}_interp'.format(j,i+1,1)][:,160:181]\n",
    "        xl_x_datas, xl_y_datas = SlidingWindow(window, stride=strides, horizon=future_window)(data) \n",
    "        check_data(xl_x_datas,xl_y_datas)\n",
    "        xl_x_train, xl_y_train = np.append(xl_x_train,xl_x_datas,axis=0), np.append(xl_y_train,xl_y_datas,axis=0)\n",
    "    \n",
    "    setattr(mod,'xl_x_{}ch_real_train_interp'.format(i+1), np.array(xl_x_train))\n",
    "    setattr(mod,'xl_y_{}ch_real_train_interp'.format(i+1), np.array(xl_y_train))\n",
    "    \n",
    "print('(interp)Training data input: {}, output: {}'.format(xl_x_1ch_real_train_interp.shape,xl_y_1ch_real_train_interp.shape))"
   ]
  },
  {
   "cell_type": "code",
   "execution_count": null,
   "metadata": {
    "ExecuteTime": {
     "end_time": "2023-06-23T01:45:10.669654Z",
     "start_time": "2023-06-23T01:45:10.633637Z"
    },
    "scrolled": true
   },
   "outputs": [],
   "source": [
    "for i in range(xl_channel):\n",
    "    for j in training_data_index: \n",
    "        xl_x_train,xl_y_train = np.empty((0,freq_input,window), int),np.empty((0,freq_input,future_window), int)\n",
    "        data = globals()['xl_{}case_{}ch_{}_interp'.format(j,i+1,1)][:,160:181]\n",
    "        xl_x_datas, xl_y_datas = SlidingWindow(window, stride=window, horizon=future_window)(data)\n",
    "        check_data(xl_x_datas,xl_y_datas)\n",
    "        xl_x_train, xl_y_train = np.append(xl_x_train,xl_x_datas,axis=0), np.append(xl_y_train,xl_y_datas,axis=0)\n",
    "      \n",
    "        setattr(mod,'xl_x_{}case_{}ch_real_train_interp'.format(j,i+1), np.array(xl_x_train))\n",
    "        setattr(mod,'xl_y_{}case_{}ch_real_train_interp'.format(j,i+1), np.array(xl_y_train))\n",
    "        print(globals()['xl_x_{}case_{}ch_real_train_interp'.format(j,i+1)].shape)\n",
    "        print(globals()['xl_y_{}case_{}ch_real_train_interp'.format(j,i+1)].shape)"
   ]
  },
  {
   "cell_type": "code",
   "execution_count": null,
   "metadata": {
    "ExecuteTime": {
     "end_time": "2023-06-23T01:45:10.685658Z",
     "start_time": "2023-06-23T01:45:10.675656Z"
    }
   },
   "outputs": [],
   "source": [
    "for i in range(xl_channel):\n",
    "    xl_x_test,xl_y_test = np.empty((0,freq_input,window), int),np.empty((0,freq_input,future_window), int)\n",
    "    \n",
    "    for j in testing_data_index:\n",
    "        data = globals()['xl_{}case_{}ch_{}_interp'.format(j,i+1,1)][:,160:181]\n",
    "        xl_x_datas, xl_y_datas = SlidingWindow(window, stride=window, horizon=future_window)(data)\n",
    "        check_data(xl_x_datas,xl_y_datas)\n",
    "        xl_x_test, xl_y_test = np.append(xl_x_test,xl_x_datas,axis=0), np.append(xl_y_test,xl_y_datas,axis=0)\n",
    "        \n",
    "    setattr(mod,'xl_x_{}ch_real_test_interp'.format(i+1), np.array(xl_x_test))\n",
    "    setattr(mod,'xl_y_{}ch_real_test_interp'.format(i+1), np.array(xl_y_test))\n",
    "    \n",
    "print('(interp)testation data input: {}, output: {}'.format(xl_x_1ch_real_test_interp.shape,xl_y_1ch_real_test_interp.shape))"
   ]
  },
  {
   "cell_type": "code",
   "execution_count": null,
   "metadata": {
    "ExecuteTime": {
     "end_time": "2023-06-23T01:45:10.701660Z",
     "start_time": "2023-06-23T01:45:10.686658Z"
    }
   },
   "outputs": [],
   "source": [
    "for i in range(xl_channel):\n",
    "    for j in testing_data_index: \n",
    "        xl_x_test,xl_y_test = np.empty((0,freq_input,window), int),np.empty((0,freq_input,future_window), int)\n",
    "        data = globals()['xl_{}case_{}ch_{}_interp'.format(j,i+1,1)][:,160:181]\n",
    "        xl_x_datas, xl_y_datas = SlidingWindow(window, stride=window, horizon=future_window)(data)\n",
    "        check_data(xl_x_datas,xl_y_datas)\n",
    "        xl_x_test, xl_y_test = np.append(xl_x_test,xl_x_datas,axis=0), np.append(xl_y_test,xl_y_datas,axis=0)\n",
    "      \n",
    "        setattr(mod,'xl_x_{}case_{}ch_real_test_interp'.format(j,i+1), np.array(xl_x_test))\n",
    "        setattr(mod,'xl_y_{}case_{}ch_real_test_interp'.format(j,i+1), np.array(xl_y_test))\n",
    "        print(globals()['xl_x_{}case_{}ch_real_test_interp'.format(j,i+1)].shape)\n",
    "        print(globals()['xl_y_{}case_{}ch_real_test_interp'.format(j,i+1)].shape)"
   ]
  },
  {
   "cell_type": "markdown",
   "metadata": {},
   "source": [
    "### MIC data"
   ]
  },
  {
   "cell_type": "code",
   "execution_count": null,
   "metadata": {
    "ExecuteTime": {
     "end_time": "2023-06-23T01:45:10.987717Z",
     "start_time": "2023-06-23T01:45:10.702653Z"
    },
    "scrolled": true
   },
   "outputs": [],
   "source": [
    "for i in range(mic_channel):\n",
    "    mic_x_train,mic_y_train = np.empty((0,freq_input,window), int),np.empty((0,freq_input,future_window), int)\n",
    "    \n",
    "    for j in training_data_index: \n",
    "        data = globals()['mic_{}case_{}ch_{}_interp'.format(j,i+1,1)][:,160:181]\n",
    "        mic_x_datas, mic_y_datas = SlidingWindow(window, stride=strides, horizon=future_window)(data)\n",
    "        check_data(mic_x_datas,mic_y_datas)\n",
    "        mic_x_train, mic_y_train = np.append(mic_x_train,mic_x_datas,axis=0), np.append(mic_y_train,mic_y_datas,axis=0)\n",
    "      \n",
    "    setattr(mod,'mic_x_{}ch_real_train_interp'.format(i+1), np.array(mic_x_train))\n",
    "    setattr(mod,'mic_y_{}ch_real_train_interp'.format(i+1), np.array(mic_y_train))\n",
    "    \n",
    "print('(interp)Training data input: {}, output: {}'.format(mic_x_1ch_real_train_interp.shape,mic_y_1ch_real_train_interp.shape))"
   ]
  },
  {
   "cell_type": "code",
   "execution_count": null,
   "metadata": {
    "ExecuteTime": {
     "end_time": "2023-06-23T01:45:11.019724Z",
     "start_time": "2023-06-23T01:45:10.988717Z"
    },
    "scrolled": true
   },
   "outputs": [],
   "source": [
    "for i in range(mic_channel):\n",
    "    for j in training_data_index: \n",
    "        mic_x_train,mic_y_train = np.empty((0,freq_input,window), int),np.empty((0,freq_input,future_window), int)\n",
    "        data = globals()['mic_{}case_{}ch_{}_interp'.format(j,i+1,1)][:,160:181] \n",
    "        mic_x_datas, mic_y_datas = SlidingWindow(window, stride=window, horizon=future_window)(data)\n",
    "        check_data(mic_x_datas,mic_y_datas)\n",
    "        mic_x_train, mic_y_train = np.append(mic_x_train,mic_x_datas,axis=0), np.append(mic_y_train,mic_y_datas,axis=0)\n",
    "      \n",
    "        setattr(mod,'mic_x_{}case_{}ch_real_train_interp'.format(j,i+1), np.array(mic_x_train))\n",
    "        setattr(mod,'mic_y_{}case_{}ch_real_train_interp'.format(j,i+1), np.array(mic_y_train))\n",
    "        print(globals()['mic_x_{}case_{}ch_real_train_interp'.format(j,i+1)].shape)\n",
    "        print(globals()['mic_y_{}case_{}ch_real_train_interp'.format(j,i+1)].shape)"
   ]
  },
  {
   "cell_type": "code",
   "execution_count": null,
   "metadata": {
    "ExecuteTime": {
     "end_time": "2023-06-23T01:45:11.035728Z",
     "start_time": "2023-06-23T01:45:11.020724Z"
    }
   },
   "outputs": [],
   "source": [
    "for i in range(mic_channel):\n",
    "    mic_x_test,mic_y_test = np.empty((0,freq_input,window), int),np.empty((0,freq_input,future_window), int)\n",
    "    \n",
    "    for j in testing_data_index:\n",
    "        data = globals()['mic_{}case_{}ch_{}_interp'.format(j,i+1,1)][:,160:181] \n",
    "        mic_x_datas, mic_y_datas = SlidingWindow(window, stride=window, horizon=future_window)(data)\n",
    "        check_data(mic_x_datas,mic_y_datas)\n",
    "        mic_x_test, mic_y_test = np.append(mic_x_test,mic_x_datas,axis=0), np.append(mic_y_test,mic_y_datas,axis=0)\n",
    "        \n",
    "    setattr(mod,'mic_x_{}ch_real_test_interp'.format(i+1), np.array(mic_x_test))\n",
    "    setattr(mod,'mic_y_{}ch_real_test_interp'.format(i+1), np.array(mic_y_test))\n",
    "    \n",
    "print('(interp)testation data input: {}, output: {}'.format(mic_x_1ch_real_test_interp.shape,mic_y_1ch_real_test_interp.shape))"
   ]
  },
  {
   "cell_type": "code",
   "execution_count": null,
   "metadata": {
    "ExecuteTime": {
     "end_time": "2023-06-23T01:45:11.051731Z",
     "start_time": "2023-06-23T01:45:11.036728Z"
    },
    "scrolled": true
   },
   "outputs": [],
   "source": [
    "for i in range(mic_channel):\n",
    "    for j in testing_data_index: \n",
    "        mic_x_test,mic_y_test = np.empty((0,freq_input,window), int),np.empty((0,freq_input,future_window), int)\n",
    "        data = globals()['mic_{}case_{}ch_{}_interp'.format(j,i+1,1)][:,160:181] \n",
    "        mic_x_datas, mic_y_datas = SlidingWindow(window, stride=window, horizon=future_window)(data)\n",
    "        check_data(mic_x_datas,mic_y_datas)\n",
    "        mic_x_test, mic_y_test = np.append(mic_x_test,mic_x_datas,axis=0), np.append(mic_y_test,mic_y_datas,axis=0)\n",
    "      \n",
    "        setattr(mod,'mic_x_{}case_{}ch_real_test_interp'.format(j,i+1), np.array(mic_x_test))\n",
    "        setattr(mod,'mic_y_{}case_{}ch_real_test_interp'.format(j,i+1), np.array(mic_y_test))\n",
    "        print(globals()['mic_x_{}case_{}ch_real_test_interp'.format(j,i+1)].shape)\n",
    "        print(globals()['mic_y_{}case_{}ch_real_test_interp'.format(j,i+1)].shape)"
   ]
  },
  {
   "cell_type": "markdown",
   "metadata": {},
   "source": [
    "### Training data"
   ]
  },
  {
   "cell_type": "code",
   "execution_count": null,
   "metadata": {
    "ExecuteTime": {
     "end_time": "2023-06-23T01:45:11.339796Z",
     "start_time": "2023-06-23T01:45:11.052732Z"
    }
   },
   "outputs": [],
   "source": [
    "x_train_interp = np.concatenate((np.concatenate((xl_x_1ch_real_train_interp,mic_x_1ch_real_train_interp),axis=1),np.concatenate((xl_x_1ch_real_test_interp,mic_x_1ch_real_test_interp),axis=1)),axis=0)\n",
    "y_train_interp = np.concatenate((mic_y_1ch_real_train_interp,mic_y_1ch_real_test_interp),axis=0)\n",
    "\n",
    "print(x_train_interp.shape, y_train_interp.shape)\n",
    "splits_interp = TimeSplitter(valid_size=389,show_plot=False)(y_train_interp) \n",
    "check_data(x_train_interp,y_train_interp,splits_interp)"
   ]
  },
  {
   "cell_type": "markdown",
   "metadata": {},
   "source": [
    "# Training"
   ]
  },
  {
   "cell_type": "code",
   "execution_count": null,
   "metadata": {
    "ExecuteTime": {
     "end_time": "2023-06-23T01:45:11.703877Z",
     "start_time": "2023-06-23T01:45:11.340796Z"
    }
   },
   "outputs": [],
   "source": [
    "dls = get_ts_dls(x_train_interp, y_train_interp, splits=splits_interp, bs=2048)#, batch_tfms=batch_tfms)"
   ]
  },
  {
   "cell_type": "markdown",
   "metadata": {},
   "source": [
    "## Network model"
   ]
  },
  {
   "cell_type": "code",
   "execution_count": null,
   "metadata": {
    "ExecuteTime": {
     "end_time": "2023-06-23T01:45:13.588597Z",
     "start_time": "2023-06-23T01:45:11.705878Z"
    }
   },
   "outputs": [],
   "source": [
    "model = create_model(InceptionTimePlus, dls=dls, **{'nb_filters':128, 'fc_dropout':0.2, 'depth':6, 'act':torch.nn.modules.activation.ELU})"
   ]
  },
  {
   "cell_type": "markdown",
   "metadata": {},
   "source": [
    "## Define loss function and optimizer"
   ]
  },
  {
   "cell_type": "code",
   "execution_count": null,
   "metadata": {
    "ExecuteTime": {
     "end_time": "2023-06-23T01:45:13.620604Z",
     "start_time": "2023-06-23T01:45:13.606602Z"
    }
   },
   "outputs": [],
   "source": [
    "adam = wrap_optimizer(torch.optim.Adam)\n",
    "print(adam)\n",
    "loss = MSELossFlat()\n",
    "print(loss)"
   ]
  },
  {
   "cell_type": "raw",
   "metadata": {
    "ExecuteTime": {
     "end_time": "2023-06-23T01:45:13.764639Z",
     "start_time": "2023-06-23T01:45:13.621604Z"
    }
   },
   "source": [
    "import gc\n",
    "\n",
    "gc.collect()\n",
    "torch.cuda.empty_cache()"
   ]
  },
  {
   "cell_type": "markdown",
   "metadata": {},
   "source": [
    "## Build learner"
   ]
  },
  {
   "cell_type": "code",
   "execution_count": null,
   "metadata": {
    "ExecuteTime": {
     "end_time": "2023-06-23T01:45:13.780651Z",
     "start_time": "2023-06-23T01:45:13.765639Z"
    }
   },
   "outputs": [],
   "source": [
    "n_epoch=1000\n",
    "learning_rate=0.0001"
   ]
  },
  {
   "cell_type": "code",
   "execution_count": null,
   "metadata": {
    "ExecuteTime": {
     "end_time": "2023-06-24T09:55:20.903064Z",
     "start_time": "2023-06-23T01:45:13.781652Z"
    },
    "scrolled": true
   },
   "outputs": [],
   "source": [
    "fcst = ts_learner(dls, model, path='models',loss_func=loss, opt_func=adam, lr=learning_rate, device='cuda',metrics=[mae, accuracy_multi], cbs=[ShowGraph(), PredictionDynamics(figsize=(20, 12))])\n",
    "fcst.fit_one_cycle(n_epoch)\n",
    "fcst.save(\"tsai_1Hz_model_real\")\n",
    "fcst.export(\"tsai_1Hz_real.pkl\")\n",
    "torch.save(model, 'models/tsai_1Hz_model_arch_real.pth')"
   ]
  },
  {
   "cell_type": "markdown",
   "metadata": {},
   "source": [
    "# Evaluation "
   ]
  },
  {
   "cell_type": "markdown",
   "metadata": {},
   "source": [
    "## Training data"
   ]
  },
  {
   "cell_type": "markdown",
   "metadata": {},
   "source": [
    "### Raw data check"
   ]
  },
  {
   "cell_type": "code",
   "execution_count": null,
   "metadata": {
    "ExecuteTime": {
     "end_time": "2023-06-24T09:57:03.201101Z",
     "start_time": "2023-06-24T09:56:59.584138Z"
    },
    "colab": {
     "base_uri": "https://localhost:8080/",
     "height": 1000
    },
    "executionInfo": {
     "elapsed": 5,
     "status": "ok",
     "timestamp": 1665546808143,
     "user": {
      "displayName": "Hyejin Kim",
      "userId": "10579478698402471192"
     },
     "user_tz": -540
    },
    "id": "dCjV5oRtUvNV",
    "outputId": "99655cf6-0a65-415f-cf3b-561df20c69ef"
   },
   "outputs": [],
   "source": [
    "train_predss = fcst.get_X_preds(x_train_interp[splits_interp[0]])"
   ]
  },
  {
   "cell_type": "code",
   "execution_count": null,
   "metadata": {
    "ExecuteTime": {
     "end_time": "2023-06-24T09:57:03.265119Z",
     "start_time": "2023-06-24T09:57:03.203102Z"
    }
   },
   "outputs": [],
   "source": [
    "y_train_1_df = pd.DataFrame(np.concatenate((train_predss[0].numpy().reshape(-1,1),y_train_interp[splits_interp[0]].reshape(-1,1)),axis=1),columns=['Original','Predict'])"
   ]
  },
  {
   "cell_type": "code",
   "execution_count": null,
   "metadata": {
    "ExecuteTime": {
     "end_time": "2023-06-24T09:57:15.823748Z",
     "start_time": "2023-06-24T09:57:03.266121Z"
    }
   },
   "outputs": [],
   "source": [
    "xlim=(-0.1,1.1)\n",
    "ylim=(-0.1,1.1)\n",
    "\n",
    "plt.subplots(figsize=(15, 15))\n",
    "plt.scatter(y_train_1_df[\"Original\"],y_train_1_df[\"Predict\"])\n",
    "plt.xlabel('Original',fontsize=40)\n",
    "plt.ylabel('Predict',fontsize=40)\n",
    "plt.xlim(xlim); plt.ylim(ylim)\n",
    "plt.xticks(fontsize=20); plt.yticks(fontsize=20)\n",
    "\n",
    "plt.plot(xlim,ylim)\n",
    "plt.annotate(\"r-squared = {:.5f}\".format(r2_score(y_train_1_df[\"Original\"], y_train_1_df[\"Predict\"])), \n",
    "             xy=(0.1, 0.9), xycoords='axes fraction',ha='left', va='center',\n",
    "             bbox={'boxstyle': 'round', 'fc': 'powderblue', 'ec': 'navy'},fontsize=40)\n",
    "plt.show()"
   ]
  },
  {
   "cell_type": "markdown",
   "metadata": {},
   "source": [
    "### case by predict"
   ]
  },
  {
   "cell_type": "code",
   "execution_count": null,
   "metadata": {
    "ExecuteTime": {
     "end_time": "2023-06-24T09:57:51.552285Z",
     "start_time": "2023-06-24T09:57:15.824740Z"
    },
    "scrolled": true
   },
   "outputs": [],
   "source": [
    "for k in training_data_index:\n",
    "    input_data = np.concatenate((globals()['xl_x_{}case_{}ch_real_train_interp'.format(k,1)],globals()['mic_x_{}case_{}ch_real_train_interp'.format(k,1)]),axis=1)\n",
    "    output_data = fcst.get_X_preds(input_data)\n",
    "    mic_only = output_data[0]\n",
    "    print(mic_only.shape)\n",
    "    \n",
    "    mic_train_1ch_pred = np.empty((0,freq_output),int)\n",
    "    for l in range(len(mic_only)):\n",
    "        data = mic_only[l,:,:].T\n",
    "        mic_train_1ch_pred = np.append(mic_train_1ch_pred,data,axis=0)\n",
    "        print(mic_train_1ch_pred.shape)\n",
    "\n",
    "    mic_train_1ch_pred_r = np.concatenate((np.zeros((len(mic_train_1ch_pred),160)), mic_train_1ch_pred),axis=1) \n",
    "    mic_train_1ch_pred_rr = np.concatenate((mic_train_1ch_pred_r,np.zeros((len(mic_train_1ch_pred),300))),axis=1) \n",
    "    mic_train_1ch_pred_rrr = mic_allcase_allch_real_interp_scaler.inverse_transform(mic_train_1ch_pred_rr)\n",
    "\n",
    "    predd_data = mic_train_1ch_pred_rrr[:,160:181].T # 180~200 Hz\n",
    "    print(predd_data, predd_data.shape)\n",
    "    \n",
    "    plt.figure(figsize=(10,10))\n",
    "    real_output_data = globals()['mic_{}case_{}ch_{}_interp_raw'.format(k,1,1)][10:,160:181].T # 180~200 Hz\n",
    "    plt.scatter(real_output_data.reshape(-1,1),predd_data.reshape(-1,1))\n",
    "    plt.show()\n",
    "    \n",
    "    for i in range(21):\n",
    "        plt.figure(figsize=(40,10))\n",
    "        plt.plot(real_output_data[i,:])\n",
    "        plt.plot(predd_data[i,:])\n",
    "        plt.show()\n",
    "    np.savetxt(str(result_path)+'/y_{}case_train_1ch_real_data.dat'.format(k),predd_data, delimiter=\",\")"
   ]
  },
  {
   "cell_type": "markdown",
   "metadata": {},
   "source": [
    "## Testing data"
   ]
  },
  {
   "cell_type": "markdown",
   "metadata": {},
   "source": [
    "### Raw data check"
   ]
  },
  {
   "cell_type": "code",
   "execution_count": null,
   "metadata": {
    "ExecuteTime": {
     "end_time": "2023-06-24T09:57:51.950381Z",
     "start_time": "2023-06-24T09:57:51.555287Z"
    },
    "colab": {
     "base_uri": "https://localhost:8080/",
     "height": 1000
    },
    "executionInfo": {
     "elapsed": 5,
     "status": "ok",
     "timestamp": 1665546808143,
     "user": {
      "displayName": "Hyejin Kim",
      "userId": "10579478698402471192"
     },
     "user_tz": -540
    },
    "id": "dCjV5oRtUvNV",
    "outputId": "99655cf6-0a65-415f-cf3b-561df20c69ef",
    "scrolled": true
   },
   "outputs": [],
   "source": [
    "test_predss = fcst.get_X_preds(x_train_interp[splits_interp[1]])"
   ]
  },
  {
   "cell_type": "code",
   "execution_count": null,
   "metadata": {
    "ExecuteTime": {
     "end_time": "2023-06-24T09:57:51.965798Z",
     "start_time": "2023-06-24T09:57:51.953382Z"
    },
    "scrolled": true
   },
   "outputs": [],
   "source": [
    "y_valid_1_df = pd.DataFrame(np.concatenate((test_predss[0].numpy().reshape(-1,1),y_train_interp[splits_interp[1]].reshape(-1,1)),axis=1),columns=['Original','Predict'])"
   ]
  },
  {
   "cell_type": "code",
   "execution_count": null,
   "metadata": {
    "ExecuteTime": {
     "end_time": "2023-06-24T09:57:52.205853Z",
     "start_time": "2023-06-24T09:57:51.966800Z"
    }
   },
   "outputs": [],
   "source": [
    "xlim=(-0.1,1.1)\n",
    "ylim=(-0.1,1.1)\n",
    "\n",
    "plt.subplots(figsize=(15, 15))\n",
    "plt.scatter(y_valid_1_df[\"Original\"],y_valid_1_df[\"Predict\"])\n",
    "plt.xlabel('Original',fontsize=40)\n",
    "plt.ylabel('Predict',fontsize=40)\n",
    "plt.xlim(xlim); plt.ylim(ylim)\n",
    "plt.xticks(fontsize=20); plt.yticks(fontsize=20)\n",
    "\n",
    "plt.plot(xlim,ylim)\n",
    "plt.annotate(\"r-squared = {:.5f}\".format(r2_score(y_valid_1_df[\"Original\"], y_valid_1_df[\"Predict\"])), \n",
    "             xy=(0.1, 0.9), xycoords='axes fraction',ha='left', va='center',\n",
    "             bbox={'boxstyle': 'round', 'fc': 'powderblue', 'ec': 'navy'},fontsize=40)\n",
    "plt.show()"
   ]
  },
  {
   "cell_type": "markdown",
   "metadata": {},
   "source": [
    "### case by predict"
   ]
  },
  {
   "cell_type": "code",
   "execution_count": null,
   "metadata": {
    "ExecuteTime": {
     "end_time": "2023-06-24T09:57:55.769795Z",
     "start_time": "2023-06-24T09:57:52.206853Z"
    },
    "scrolled": true
   },
   "outputs": [],
   "source": [
    "for k in testing_data_index:\n",
    "    input_data = np.concatenate((globals()['xl_x_{}case_{}ch_real_test_interp'.format(k,1)],globals()['mic_x_{}case_{}ch_real_test_interp'.format(k,1)]),axis=1)\n",
    "    output_data = fcst.get_X_preds(input_data)\n",
    "    mic_only = output_data[0]\n",
    "    print(mic_only.shape)\n",
    "    \n",
    "    mic_test_1ch_pred = np.empty((0,freq_output),int)\n",
    "    for l in range(len(mic_only)):\n",
    "        data = mic_only[l,:,:].T\n",
    "        mic_test_1ch_pred = np.append(mic_test_1ch_pred,data,axis=0)\n",
    "        print(mic_test_1ch_pred.shape)\n",
    "\n",
    "    mic_test_1ch_pred_r = np.concatenate((np.zeros((len(mic_test_1ch_pred),160)), mic_test_1ch_pred),axis=1) \n",
    "    mic_test_1ch_pred_rr = np.concatenate((mic_test_1ch_pred_r,np.zeros((len(mic_test_1ch_pred),300))),axis=1)\n",
    "    mic_test_1ch_pred_rrr = mic_allcase_allch_real_interp_scaler.inverse_transform(mic_test_1ch_pred_rr)\n",
    "\n",
    "    predd_data = mic_test_1ch_pred_rrr[:,160:181].T # 180~200 Hz\n",
    "    print(predd_data, predd_data.shape)\n",
    "    \n",
    "    plt.figure(figsize=(10,10))\n",
    "    real_output_data = globals()['mic_{}case_{}ch_{}_interp_raw'.format(k,1,1)][10:,160:181].T # 180~200 Hz\n",
    "    plt.scatter(real_output_data.reshape(-1,1),predd_data.reshape(-1,1))\n",
    "    plt.show()\n",
    "    \n",
    "    for i in range(21):\n",
    "        plt.figure(figsize=(40,10))\n",
    "        plt.plot(real_output_data[i,:])\n",
    "        plt.plot(predd_data[i,:])\n",
    "        plt.show()\n",
    "    np.savetxt(str(result_path)+'/y_{}case_test_1ch_real_data.dat'.format(k),predd_data, delimiter=\",\")"
   ]
  }
 ],
 "metadata": {
  "accelerator": "GPU",
  "colab": {
   "collapsed_sections": [],
   "machine_shape": "hm",
   "provenance": [],
   "toc_visible": true
  },
  "gpuClass": "premium",
  "kernelspec": {
   "display_name": "tf-gpu",
   "language": "python",
   "name": "tf-gpu"
  },
  "language_info": {
   "codemirror_mode": {
    "name": "ipython",
    "version": 3
   },
   "file_extension": ".py",
   "mimetype": "text/x-python",
   "name": "python",
   "nbconvert_exporter": "python",
   "pygments_lexer": "ipython3",
   "version": "3.7.13"
  },
  "toc": {
   "base_numbering": 1,
   "nav_menu": {},
   "number_sections": true,
   "sideBar": true,
   "skip_h1_title": false,
   "title_cell": "Table of Contents",
   "title_sidebar": "Contents",
   "toc_cell": false,
   "toc_position": {
    "height": "789px",
    "left": "618px",
    "top": "111.125px",
    "width": "212px"
   },
   "toc_section_display": true,
   "toc_window_display": false
  },
  "varInspector": {
   "cols": {
    "lenName": 16,
    "lenType": 16,
    "lenVar": 40
   },
   "kernels_config": {
    "python": {
     "delete_cmd_postfix": "",
     "delete_cmd_prefix": "del ",
     "library": "var_list.py",
     "varRefreshCmd": "print(var_dic_list())"
    },
    "r": {
     "delete_cmd_postfix": ") ",
     "delete_cmd_prefix": "rm(",
     "library": "var_list.r",
     "varRefreshCmd": "cat(var_dic_list()) "
    }
   },
   "types_to_exclude": [
    "module",
    "function",
    "builtin_function_or_method",
    "instance",
    "_Feature"
   ],
   "window_display": false
  },
  "widgets": {
   "application/vnd.jupyter.widget-state+json": {
    "state": {},
    "version_major": 2,
    "version_minor": 0
   }
  }
 },
 "nbformat": 4,
 "nbformat_minor": 4
}
